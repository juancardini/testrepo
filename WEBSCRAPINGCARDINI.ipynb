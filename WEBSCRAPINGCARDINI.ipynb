{
 "cells": [
  {
   "cell_type": "markdown",
   "id": "d6ba5f37-d2e8-4c27-9d68-da5f75bb76ec",
   "metadata": {},
   "source": [
    "<p style=\"text-align:center\">\n",
    "    <a href=\"https://skills.network\" target=\"_blank\">\n",
    "    <img src=\"https://cf-courses-data.s3.us.cloud-object-storage.appdomain.cloud/assets/logos/SN_web_lightmode.png\" width=\"200\" alt=\"Skills Network Logo\">\n",
    "    </a>\n",
    "</p>\n"
   ]
  },
  {
   "cell_type": "markdown",
   "id": "b6705847-5681-4929-9cac-4345ea8255a8",
   "metadata": {},
   "source": [
    "# **Space X  Falcon 9 First Stage Landing Prediction**\n"
   ]
  },
  {
   "cell_type": "markdown",
   "id": "5159c469-8a49-4c42-a65d-d6fa3583c7b1",
   "metadata": {},
   "source": [
    "## Web scraping Falcon 9 and Falcon Heavy Launches Records from Wikipedia\n"
   ]
  },
  {
   "cell_type": "markdown",
   "id": "da32a7c8-9d55-4a99-a24f-22697db62448",
   "metadata": {},
   "source": [
    "Estimated time needed: **40** minutes\n"
   ]
  },
  {
   "cell_type": "markdown",
   "id": "cde166dc-e8cc-4aba-a8d4-07b78dacf4f4",
   "metadata": {},
   "source": [
    "In this lab, you will be performing web scraping to collect Falcon 9 historical launch records from a Wikipedia page titled `List of Falcon 9 and Falcon Heavy launches`\n",
    "\n",
    "https://en.wikipedia.org/wiki/List_of_Falcon_9_and_Falcon_Heavy_launches\n"
   ]
  },
  {
   "cell_type": "markdown",
   "id": "812d5c6a-6a8b-484d-b881-c6d8f5506de1",
   "metadata": {},
   "source": [
    "![](https://cf-courses-data.s3.us.cloud-object-storage.appdomain.cloud/IBM-DS0321EN-SkillsNetwork/labs/module_1_L2/images/Falcon9_rocket_family.svg)\n"
   ]
  },
  {
   "cell_type": "markdown",
   "id": "6f73dc38-3517-4005-9abc-0adc2f149c96",
   "metadata": {},
   "source": [
    "Falcon 9 first stage will land successfully\n"
   ]
  },
  {
   "cell_type": "markdown",
   "id": "c70f4eac-b60f-4f12-b9e3-0d04d8ac4c15",
   "metadata": {},
   "source": [
    "![](https://cf-courses-data.s3.us.cloud-object-storage.appdomain.cloud/IBMDeveloperSkillsNetwork-DS0701EN-SkillsNetwork/api/Images/landing_1.gif)\n"
   ]
  },
  {
   "cell_type": "markdown",
   "id": "e602025b-902c-41f4-8b4c-5580535e7bca",
   "metadata": {},
   "source": [
    "Several examples of an unsuccessful landing are shown here:\n"
   ]
  },
  {
   "cell_type": "markdown",
   "id": "c61bdf55-9538-4356-a0b6-ae95b9270f87",
   "metadata": {},
   "source": [
    "![](https://cf-courses-data.s3.us.cloud-object-storage.appdomain.cloud/IBMDeveloperSkillsNetwork-DS0701EN-SkillsNetwork/api/Images/crash.gif)\n"
   ]
  },
  {
   "cell_type": "markdown",
   "id": "f02dca7a-c9d6-4c64-9741-999247032b54",
   "metadata": {},
   "source": [
    "More specifically, the launch records are stored in a HTML table shown below:\n"
   ]
  },
  {
   "cell_type": "markdown",
   "id": "f8e601b6-2fda-4524-9e18-a3a26db0446c",
   "metadata": {},
   "source": [
    "![](https://cf-courses-data.s3.us.cloud-object-storage.appdomain.cloud/IBM-DS0321EN-SkillsNetwork/labs/module_1_L2/images/falcon9-launches-wiki.png)\n"
   ]
  },
  {
   "cell_type": "markdown",
   "id": "78b4c601-5556-4f25-808c-c6b55fadb593",
   "metadata": {},
   "source": [
    "  ## Objectives\n",
    "Web scrap Falcon 9 launch records with `BeautifulSoup`: \n",
    "- Extract a Falcon 9 launch records HTML table from Wikipedia\n",
    "- Parse the table and convert it into a Pandas data frame\n"
   ]
  },
  {
   "cell_type": "markdown",
   "id": "806faaa2-5bc8-4c5f-8560-a09278ee1a35",
   "metadata": {},
   "source": [
    "First let's import required packages for this lab\n"
   ]
  },
  {
   "cell_type": "code",
   "execution_count": 1,
   "id": "a2a7c4a5-dc2a-4d6f-9742-50018e52e881",
   "metadata": {},
   "outputs": [
    {
     "name": "stdout",
     "output_type": "stream",
     "text": [
      "Requirement already satisfied: beautifulsoup4 in c:\\users\\juan_\\anaconda3\\envs\\rp_env\\lib\\site-packages (4.12.2)\n",
      "Requirement already satisfied: soupsieve>1.2 in c:\\users\\juan_\\anaconda3\\envs\\rp_env\\lib\\site-packages (from beautifulsoup4) (2.5)\n",
      "Requirement already satisfied: requests in c:\\users\\juan_\\anaconda3\\envs\\rp_env\\lib\\site-packages (2.31.0)\n",
      "Requirement already satisfied: charset-normalizer<4,>=2 in c:\\users\\juan_\\anaconda3\\envs\\rp_env\\lib\\site-packages (from requests) (2.0.4)\n",
      "Requirement already satisfied: idna<4,>=2.5 in c:\\users\\juan_\\anaconda3\\envs\\rp_env\\lib\\site-packages (from requests) (3.4)\n",
      "Requirement already satisfied: urllib3<3,>=1.21.1 in c:\\users\\juan_\\anaconda3\\envs\\rp_env\\lib\\site-packages (from requests) (1.26.16)\n",
      "Requirement already satisfied: certifi>=2017.4.17 in c:\\users\\juan_\\anaconda3\\envs\\rp_env\\lib\\site-packages (from requests) (2023.7.22)\n"
     ]
    }
   ],
   "source": [
    "!pip3 install beautifulsoup4\n",
    "!pip3 install requests"
   ]
  },
  {
   "cell_type": "code",
   "execution_count": 3,
   "id": "7c8d3cc9-5877-4b5f-9e31-8ea50f8cf029",
   "metadata": {},
   "outputs": [],
   "source": [
    "import sys\n",
    "\n",
    "import requests\n",
    "from bs4 import BeautifulSoup\n",
    "import re\n",
    "import unicodedata\n",
    "import pandas as pd"
   ]
  },
  {
   "cell_type": "markdown",
   "id": "8c352dd2-7d80-4e13-94d0-f50d56ea43fc",
   "metadata": {},
   "source": [
    "and we will provide some helper functions for you to process web scraped HTML table\n"
   ]
  },
  {
   "cell_type": "code",
   "execution_count": 4,
   "id": "f2c6c9f4-3a62-45e6-800f-6faef30117c4",
   "metadata": {},
   "outputs": [],
   "source": [
    "def date_time(table_cells):\n",
    "    \"\"\"\n",
    "    This function returns the data and time from the HTML  table cell\n",
    "    Input: the  element of a table data cell extracts extra row\n",
    "    \"\"\"\n",
    "    return [data_time.strip() for data_time in list(table_cells.strings)][0:2]\n",
    "\n",
    "def booster_version(table_cells):\n",
    "    \"\"\"\n",
    "    This function returns the booster version from the HTML  table cell \n",
    "    Input: the  element of a table data cell extracts extra row\n",
    "    \"\"\"\n",
    "    out=''.join([booster_version for i,booster_version in enumerate( table_cells.strings) if i%2==0][0:-1])\n",
    "    return out\n",
    "\n",
    "def landing_status(table_cells):\n",
    "    \"\"\"\n",
    "    This function returns the landing status from the HTML table cell \n",
    "    Input: the  element of a table data cell extracts extra row\n",
    "    \"\"\"\n",
    "    out=[i for i in table_cells.strings][0]\n",
    "    return out\n",
    "\n",
    "\n",
    "def get_mass(table_cells):\n",
    "    mass=unicodedata.normalize(\"NFKD\", table_cells.text).strip()\n",
    "    if mass:\n",
    "        mass.find(\"kg\")\n",
    "        new_mass=mass[0:mass.find(\"kg\")+2]\n",
    "    else:\n",
    "        new_mass=0\n",
    "    return new_mass\n",
    "\n",
    "\n",
    "def extract_column_from_header(row):\n",
    "    \"\"\"\n",
    "    This function returns the landing status from the HTML table cell \n",
    "    Input: the  element of a table data cell extracts extra row\n",
    "    \"\"\"\n",
    "    if (row.br):\n",
    "        row.br.extract()\n",
    "    if row.a:\n",
    "        row.a.extract()\n",
    "    if row.sup:\n",
    "        row.sup.extract()\n",
    "        \n",
    "    colunm_name = ' '.join(row.contents)\n",
    "    \n",
    "    # Filter the digit and empty names\n",
    "    if not(colunm_name.strip().isdigit()):\n",
    "        colunm_name = colunm_name.strip()\n",
    "        return colunm_name    \n"
   ]
  },
  {
   "cell_type": "markdown",
   "id": "d6d67823-0c37-47f9-9534-893059126d1f",
   "metadata": {},
   "source": [
    "To keep the lab tasks consistent, you will be asked to scrape the data from a snapshot of the  `List of Falcon 9 and Falcon Heavy launches` Wikipage updated on\n",
    "`9th June 2021`\n"
   ]
  },
  {
   "cell_type": "code",
   "execution_count": 7,
   "id": "9a2a0107-2cb2-487b-a064-83213465278f",
   "metadata": {},
   "outputs": [],
   "source": [
    "static_url = \"https://en.wikipedia.org/w/index.php?title=List_of_Falcon_9_and_Falcon_Heavy_launches&oldid=1027686922\""
   ]
  },
  {
   "cell_type": "markdown",
   "id": "67b0cd55-40eb-41b9-9ecc-988688157222",
   "metadata": {},
   "source": [
    "Next, request the HTML page from the above URL and get a `response` object\n"
   ]
  },
  {
   "cell_type": "markdown",
   "id": "ec540cbf-717c-450d-923e-e1080830ecc7",
   "metadata": {},
   "source": [
    "### TASK 1: Request the Falcon9 Launch Wiki page from its URL\n"
   ]
  },
  {
   "cell_type": "markdown",
   "id": "f81f9361-d844-41fb-b0c7-0c044e119338",
   "metadata": {},
   "source": [
    "First, let's perform an HTTP GET method to request the Falcon9 Launch HTML page, as an HTTP response.\n"
   ]
  },
  {
   "cell_type": "code",
   "execution_count": 8,
   "id": "27209bf6-7bb3-4a02-ade6-e637c0c145ad",
   "metadata": {},
   "outputs": [],
   "source": [
    "# use requests.get() method with the provided static_url\n",
    "# assign the response to a object\n",
    "response = requests.get(static_url)\n"
   ]
  },
  {
   "cell_type": "markdown",
   "id": "ff539ad6-eee9-48f9-ba1a-190006e91669",
   "metadata": {},
   "source": [
    "Create a `BeautifulSoup` object from the HTML `response`\n"
   ]
  },
  {
   "cell_type": "code",
   "execution_count": 14,
   "id": "91ea6dde-5579-4e99-b761-6337cd0313d8",
   "metadata": {},
   "outputs": [
    {
     "name": "stdout",
     "output_type": "stream",
     "text": [
      "Title of the page: Falcon 9 - Wikipedia\n"
     ]
    }
   ],
   "source": [
    "import requests\n",
    "from bs4 import BeautifulSoup\n",
    "\n",
    "# Assuming 'static_url' is the URL of the Falcon 9 Launch Wikipedia page\n",
    "static_url = 'https://en.wikipedia.org/wiki/Falcon_9'\n",
    "\n",
    "# Make a GET request to the URL\n",
    "response = requests.get(static_url)\n",
    "\n",
    "# Check if the request was successful (status code 200)\n",
    "if response.status_code == 200:\n",
    "    # Create a BeautifulSoup object from the HTML content\n",
    "    soup = BeautifulSoup(response.text, 'html.parser')\n",
    "\n",
    "    # Access the title of the HTML page using soup.title\n",
    "    title = soup.title\n",
    "\n",
    "    # Print the title\n",
    "    print(f\"Title of the page: {title.text}\")\n",
    "else:\n",
    "    # Handle the error\n",
    "    print(f\"Error: {response.status_code}\")\n"
   ]
  },
  {
   "cell_type": "markdown",
   "id": "666031e6-2570-410e-8a4a-3661b3b574cd",
   "metadata": {},
   "source": [
    "Print the page title to verify if the `BeautifulSoup` object was created properly \n"
   ]
  },
  {
   "cell_type": "code",
   "execution_count": 16,
   "id": "1517d648-d512-4ac9-99e5-9c4b2eb53eec",
   "metadata": {},
   "outputs": [
    {
     "name": "stdout",
     "output_type": "stream",
     "text": [
      "Title of the page: Falcon 9 - Wikipedia\n"
     ]
    }
   ],
   "source": [
    "# Use soup.title attribute\n",
    "\n",
    "# Check if the request was successful (status code 200)\n",
    "if response.status_code == 200:\n",
    "    # Create a BeautifulSoup object from the HTML content\n",
    "    soup = BeautifulSoup(response.text, 'html.parser')\n",
    "\n",
    "    # Access the title of the HTML page using soup.title\n",
    "    title = soup.title\n",
    "\n",
    "    # Print the title\n",
    "    print(f\"Title of the page: {title.text}\")\n",
    "else:\n",
    "    # Handle the error\n",
    "    print(f\"Error: {response.status_code}\")"
   ]
  },
  {
   "cell_type": "markdown",
   "id": "87db314c-5342-48f4-9973-431fd0281e27",
   "metadata": {},
   "source": [
    "### TASK 2: Extract all column/variable names from the HTML table header\n"
   ]
  },
  {
   "cell_type": "markdown",
   "id": "c7e5769a-db7e-44ff-99c2-40984d88edb6",
   "metadata": {},
   "source": [
    "Next, we want to collect all relevant column names from the HTML table header\n"
   ]
  },
  {
   "cell_type": "markdown",
   "id": "ba9f8358-9095-4db1-a969-a223a17c2b22",
   "metadata": {},
   "source": [
    "Let's try to find all tables on the wiki page first. If you need to refresh your memory about `BeautifulSoup`, please check the external reference link towards the end of this lab\n"
   ]
  },
  {
   "cell_type": "code",
   "execution_count": 19,
   "id": "f345ea64-4f62-4212-b1f2-ec4cca23b0f4",
   "metadata": {},
   "outputs": [],
   "source": [
    "# Use the find_all function in the BeautifulSoup object, with element type `table`\n",
    "# Assign the result to a list called `html_tables`\n",
    "html_tables = soup.find_all('table')\n",
    "\n",
    "   \n",
    "    "
   ]
  },
  {
   "cell_type": "markdown",
   "id": "75479d6e-7283-4fdd-b52d-8c4eb283f069",
   "metadata": {},
   "source": [
    "Starting from the third table is our target table contains the actual launch records.\n"
   ]
  },
  {
   "cell_type": "code",
   "execution_count": 20,
   "id": "39127b09-9bc8-4afa-b7df-6cb3f57bd59b",
   "metadata": {},
   "outputs": [
    {
     "name": "stdout",
     "output_type": "stream",
     "text": [
      "<table class=\"multicol\" role=\"presentation\" style=\"border-collapse: collapse; padding: 0; border: 0; background:transparent; width:100%;\">\n",
      "<tbody><tr>\n",
      "<td style=\"text-align: left; vertical-align: top;\">\n",
      "<h3><span class=\"mw-headline\" id=\"Launch_outcomes\"> Launch outcomes</span><span class=\"mw-editsection\"><span class=\"mw-editsection-bracket\">[</span><a href=\"/w/index.php?title=List_of_Falcon_9_and_Falcon_Heavy_launches&amp;action=edit&amp;section=T-3\" title=\"Edit section: Launch outcomes\"><span>edit</span></a><span class=\"mw-editsection-bracket\">]</span></span></h3>\n",
      "<div class=\"chart noresize\" style=\"margin-top:1em;max-width:480px;\">\n",
      "<div style=\"position:relative;min-height:320px;min-width:480px;max-width:480px;\">\n",
      "<div style=\"float:right;position:relative;min-height:240px;min-width:380px;max-width:380px;border-left:1px black solid;border-bottom:1px black solid;\">\n",
      "<div style=\"position:absolute;left:152.5px;top:238px;height:1px;min-width:18px;max-width:18px;background-color:Black;-webkit-print-color-adjust:exact;border:1px solid Black;border-bottom:none;overflow:hidden;\" title=\"Loss before launch: 1\"></div>\n",
      "<div style=\"position:absolute;left:127.5px;top:238px;height:1px;min-width:18px;max-width:18px;background-color:DarkRed;-webkit-print-color-adjust:exact;border:1px solid DarkRed;border-bottom:none;overflow:hidden;\" title=\"Loss during flight: 1\"></div>\n",
      "<div style=\"position:absolute;left:52.5px;top:238px;height:1px;min-width:18px;max-width:18px;background-color:Goldenrod;-webkit-print-color-adjust:exact;border:1px solid Goldenrod;border-bottom:none;overflow:hidden;\" title=\"Partial failure: 1\"></div>\n",
      "<div style=\"position:absolute;left:2.5px;top:235px;height:4px;min-width:18px;max-width:18px;background-color:ForestGreen;-webkit-print-color-adjust:exact;border:1px solid ForestGreen;border-bottom:none;overflow:hidden;\" title=\"Success (commercial and government): 2\"></div>\n",
      "<div style=\"position:absolute;left:52.5px;top:236px;height:1px;min-width:18px;max-width:18px;background-color:ForestGreen;-webkit-print-color-adjust:exact;border:1px solid ForestGreen;border-bottom:none;overflow:hidden;\" title=\"Success (commercial and government): 1\"></div>\n",
      "<div style=\"position:absolute;left:77.5px;top:233px;height:6px;min-width:18px;max-width:18px;background-color:ForestGreen;-webkit-print-color-adjust:exact;border:1px solid ForestGreen;border-bottom:none;overflow:hidden;\" title=\"Success (commercial and government): 3\"></div>\n",
      "<div style=\"position:absolute;left:102.5px;top:226px;height:13px;min-width:18px;max-width:18px;background-color:ForestGreen;-webkit-print-color-adjust:exact;border:1px solid ForestGreen;border-bottom:none;overflow:hidden;\" title=\"Success (commercial and government): 6\"></div>\n",
      "<div style=\"position:absolute;left:127.5px;top:224px;height:13px;min-width:18px;max-width:18px;background-color:ForestGreen;-webkit-print-color-adjust:exact;border:1px solid ForestGreen;border-bottom:none;overflow:hidden;\" title=\"Success (commercial and government): 6\"></div>\n",
      "<div style=\"position:absolute;left:152.5px;top:219px;height:18px;min-width:18px;max-width:18px;background-color:ForestGreen;-webkit-print-color-adjust:exact;border:1px solid ForestGreen;border-bottom:none;overflow:hidden;\" title=\"Success (commercial and government): 8\"></div>\n",
      "<div style=\"position:absolute;left:177.5px;top:197px;height:42px;min-width:18px;max-width:18px;background-color:ForestGreen;-webkit-print-color-adjust:exact;border:1px solid ForestGreen;border-bottom:none;overflow:hidden;\" title=\"Success (commercial and government): 18\"></div>\n",
      "<div style=\"position:absolute;left:202.5px;top:190px;height:49px;min-width:18px;max-width:18px;background-color:ForestGreen;-webkit-print-color-adjust:exact;border:1px solid ForestGreen;border-bottom:none;overflow:hidden;\" title=\"Success (commercial and government): 21\"></div>\n",
      "<div style=\"position:absolute;left:227.5px;top:214px;height:25px;min-width:18px;max-width:18px;background-color:ForestGreen;-webkit-print-color-adjust:exact;border:1px solid ForestGreen;border-bottom:none;overflow:hidden;\" title=\"Success (commercial and government): 11\"></div>\n",
      "<div style=\"position:absolute;left:252.5px;top:211px;height:28px;min-width:18px;max-width:18px;background-color:ForestGreen;-webkit-print-color-adjust:exact;border:1px solid ForestGreen;border-bottom:none;overflow:hidden;\" title=\"Success (commercial and government): 12\"></div>\n",
      "<div style=\"position:absolute;left:277.5px;top:206px;height:33px;min-width:18px;max-width:18px;background-color:ForestGreen;-webkit-print-color-adjust:exact;border:1px solid ForestGreen;border-bottom:none;overflow:hidden;\" title=\"Success (commercial and government): 14\"></div>\n",
      "<div style=\"position:absolute;left:302.5px;top:175px;height:64px;min-width:18px;max-width:18px;background-color:ForestGreen;-webkit-print-color-adjust:exact;border:1px solid ForestGreen;border-bottom:none;overflow:hidden;\" title=\"Success (commercial and government): 27\"></div>\n",
      "<div style=\"position:absolute;left:327.5px;top:168px;height:71px;min-width:18px;max-width:18px;background-color:ForestGreen;-webkit-print-color-adjust:exact;border:1px solid ForestGreen;border-bottom:none;overflow:hidden;\" title=\"Success (commercial and government): 30\"></div>\n",
      "<div style=\"position:absolute;left:227.5px;top:209px;height:4px;min-width:18px;max-width:18px;background-color:DarkGreen;-webkit-print-color-adjust:exact;border:1px solid DarkGreen;border-bottom:none;overflow:hidden;\" title=\"Success ([[Starlink]]): 2\"></div>\n",
      "<div style=\"position:absolute;left:252.5px;top:178px;height:33px;min-width:18px;max-width:18px;background-color:DarkGreen;-webkit-print-color-adjust:exact;border:1px solid DarkGreen;border-bottom:none;overflow:hidden;\" title=\"Success ([[Starlink]]): 14\"></div>\n",
      "<div style=\"position:absolute;left:277.5px;top:166px;height:40px;min-width:18px;max-width:18px;background-color:DarkGreen;-webkit-print-color-adjust:exact;border:1px solid DarkGreen;border-bottom:none;overflow:hidden;\" title=\"Success ([[Starlink]]): 17\"></div>\n",
      "<div style=\"position:absolute;left:302.5px;top:94px;height:81px;min-width:18px;max-width:18px;background-color:DarkGreen;-webkit-print-color-adjust:exact;border:1px solid DarkGreen;border-bottom:none;overflow:hidden;\" title=\"Success ([[Starlink]]): 34\"></div>\n",
      "<div style=\"position:absolute;left:327.5px;top:41px;height:126px;min-width:18px;max-width:18px;background-color:DarkGreen;-webkit-print-color-adjust:exact;border:1px solid DarkGreen;border-bottom:none;overflow:hidden;\" title=\"Success ([[Starlink]]): 53\"></div>\n",
      "<div style=\"position:absolute;left:327.5px;top:24px;height:16px;min-width:18px;max-width:18px;background-color:LightBlue;-webkit-print-color-adjust:exact;border:1px solid LightBlue;border-bottom:none;overflow:hidden;\" title=\"Planned (commercial and government): 7\"></div>\n",
      "<div style=\"position:absolute;left:352.5px;top:132px;height:107px;min-width:18px;max-width:18px;background-color:LightBlue;-webkit-print-color-adjust:exact;border:1px solid LightBlue;border-bottom:none;overflow:hidden;\" title=\"Planned (commercial and government): 45\"></div>\n",
      "<div style=\"position:absolute;left:327.5px;top:17px;height:6px;min-width:18px;max-width:18px;background-color:DarkCyan;-webkit-print-color-adjust:exact;border:1px solid DarkCyan;border-bottom:none;overflow:hidden;\" title=\"Planned ([[Starlink]]): 3\"></div>\n",
      "</div>\n",
      "<div style=\"position:absolute;height:240px;min-width:100px;max-width:100px;\">\n",
      "<div style=\"position:absolute;height=20px;text-align:right;vertical-align:middle;width:90px;top:206px;padding:0 2px\">10</div>\n",
      "<div style=\"position:absolute;height=1px;min-width:5px;top:216px;left:96px;border:1px solid black;\"></div>\n",
      "<div style=\"position:absolute;height=20px;text-align:right;vertical-align:middle;width:90px;top:182px;padding:0 2px\">20</div>\n",
      "<div style=\"position:absolute;height=1px;min-width:5px;top:192px;left:96px;border:1px solid black;\"></div>\n",
      "<div style=\"position:absolute;height=20px;text-align:right;vertical-align:middle;width:90px;top:158px;padding:0 2px\">30</div>\n",
      "<div style=\"position:absolute;height=1px;min-width:5px;top:168px;left:96px;border:1px solid black;\"></div>\n",
      "<div style=\"position:absolute;height=20px;text-align:right;vertical-align:middle;width:90px;top:134px;padding:0 2px\">40</div>\n",
      "<div style=\"position:absolute;height=1px;min-width:5px;top:144px;left:96px;border:1px solid black;\"></div>\n",
      "<div style=\"position:absolute;height=20px;text-align:right;vertical-align:middle;width:90px;top:110px;padding:0 2px\">50</div>\n",
      "<div style=\"position:absolute;height=1px;min-width:5px;top:120px;left:96px;border:1px solid black;\"></div>\n",
      "<div style=\"position:absolute;height=20px;text-align:right;vertical-align:middle;width:90px;top:86px;padding:0 2px\">60</div>\n",
      "<div style=\"position:absolute;height=1px;min-width:5px;top:96px;left:96px;border:1px solid black;\"></div>\n",
      "<div style=\"position:absolute;height=20px;text-align:right;vertical-align:middle;width:90px;top:62px;padding:0 2px\">70</div>\n",
      "<div style=\"position:absolute;height=1px;min-width:5px;top:72px;left:96px;border:1px solid black;\"></div>\n",
      "<div style=\"position:absolute;height=20px;text-align:right;vertical-align:middle;width:90px;top:38px;padding:0 2px\">80</div>\n",
      "<div style=\"position:absolute;height=1px;min-width:5px;top:48px;left:96px;border:1px solid black;\"></div>\n",
      "<div style=\"position:absolute;height=20px;text-align:right;vertical-align:middle;width:90px;top:14px;padding:0 2px\">90</div>\n",
      "<div style=\"position:absolute;height=1px;min-width:5px;top:24px;left:96px;border:1px solid black;\"></div>\n",
      "<div style=\"position:absolute;height=20px;text-align:right;vertical-align:middle;width:90px;top:-10px;padding:0 2px\">100</div>\n",
      "<div style=\"position:absolute;height=1px;min-width:5px;top:0px;left:96px;border:1px solid black;\"></div>\n",
      "</div>\n",
      "<div style=\"position:absolute;top:240px;left:100px;width:380px;\">\n",
      "<div style=\"position:absolute;left:5px;top:10px;min-width:15px;max-width:15px;text-align:center;vertical-align:top;\">'10</div>\n",
      "<div style=\"position:absolute;left:12.5px;height:10px;width:1px;border-left:1px solid black;\"></div>\n",
      "<div style=\"position:absolute;left:30px;top:10px;min-width:15px;max-width:15px;text-align:center;vertical-align:top;\">'11</div>\n",
      "<div style=\"position:absolute;left:37.5px;height:10px;width:1px;border-left:1px solid black;\"></div>\n",
      "<div style=\"position:absolute;left:55px;top:10px;min-width:15px;max-width:15px;text-align:center;vertical-align:top;\">'12</div>\n",
      "<div style=\"position:absolute;left:62.5px;height:10px;width:1px;border-left:1px solid black;\"></div>\n",
      "<div style=\"position:absolute;left:80px;top:10px;min-width:15px;max-width:15px;text-align:center;vertical-align:top;\">'13</div>\n",
      "<div style=\"position:absolute;left:87.5px;height:10px;width:1px;border-left:1px solid black;\"></div>\n",
      "<div style=\"position:absolute;left:105px;top:10px;min-width:15px;max-width:15px;text-align:center;vertical-align:top;\">'14</div>\n",
      "<div style=\"position:absolute;left:112.5px;height:10px;width:1px;border-left:1px solid black;\"></div>\n",
      "<div style=\"position:absolute;left:130px;top:10px;min-width:15px;max-width:15px;text-align:center;vertical-align:top;\">'15</div>\n",
      "<div style=\"position:absolute;left:137.5px;height:10px;width:1px;border-left:1px solid black;\"></div>\n",
      "<div style=\"position:absolute;left:155px;top:10px;min-width:15px;max-width:15px;text-align:center;vertical-align:top;\">'16</div>\n",
      "<div style=\"position:absolute;left:162.5px;height:10px;width:1px;border-left:1px solid black;\"></div>\n",
      "<div style=\"position:absolute;left:180px;top:10px;min-width:15px;max-width:15px;text-align:center;vertical-align:top;\">'17</div>\n",
      "<div style=\"position:absolute;left:187.5px;height:10px;width:1px;border-left:1px solid black;\"></div>\n",
      "<div style=\"position:absolute;left:205px;top:10px;min-width:15px;max-width:15px;text-align:center;vertical-align:top;\">'18</div>\n",
      "<div style=\"position:absolute;left:212.5px;height:10px;width:1px;border-left:1px solid black;\"></div>\n",
      "<div style=\"position:absolute;left:230px;top:10px;min-width:15px;max-width:15px;text-align:center;vertical-align:top;\">'19</div>\n",
      "<div style=\"position:absolute;left:237.5px;height:10px;width:1px;border-left:1px solid black;\"></div>\n",
      "<div style=\"position:absolute;left:255px;top:10px;min-width:15px;max-width:15px;text-align:center;vertical-align:top;\">'20</div>\n",
      "<div style=\"position:absolute;left:262.5px;height:10px;width:1px;border-left:1px solid black;\"></div>\n",
      "<div style=\"position:absolute;left:280px;top:10px;min-width:15px;max-width:15px;text-align:center;vertical-align:top;\">'21</div>\n",
      "<div style=\"position:absolute;left:287.5px;height:10px;width:1px;border-left:1px solid black;\"></div>\n",
      "<div style=\"position:absolute;left:305px;top:10px;min-width:15px;max-width:15px;text-align:center;vertical-align:top;\">'22</div>\n",
      "<div style=\"position:absolute;left:312.5px;height:10px;width:1px;border-left:1px solid black;\"></div>\n",
      "<div style=\"position:absolute;left:330px;top:10px;min-width:15px;max-width:15px;text-align:center;vertical-align:top;\">'23</div>\n",
      "<div style=\"position:absolute;left:337.5px;height:10px;width:1px;border-left:1px solid black;\"></div>\n",
      "<div style=\"position:absolute;left:355px;top:10px;min-width:15px;max-width:15px;text-align:center;vertical-align:top;\">'24</div>\n",
      "<div style=\"position:absolute;left:362.5px;height:10px;width:1px;border-left:1px solid black;\"></div>\n",
      "</div>\n",
      "</div>\n",
      "<div>\n",
      "<ul style=\"width:100%;list-style:none;column-width:12em;\"><li><span style=\"padding:0 1em;background-color:Black;border:1px solid Black;margin-right:1em;-webkit-print-color-adjust:exact;\"> </span> Loss before launch</li>\n",
      "<li><span style=\"padding:0 1em;background-color:DarkRed;border:1px solid DarkRed;margin-right:1em;-webkit-print-color-adjust:exact;\"> </span> Loss during flight</li>\n",
      "<li><span style=\"padding:0 1em;background-color:Goldenrod;border:1px solid Goldenrod;margin-right:1em;-webkit-print-color-adjust:exact;\"> </span> Partial failure</li>\n",
      "<li><span style=\"padding:0 1em;background-color:ForestGreen;border:1px solid ForestGreen;margin-right:1em;-webkit-print-color-adjust:exact;\"> </span> Success (commercial and government)</li>\n",
      "<li><span style=\"padding:0 1em;background-color:DarkGreen;border:1px solid DarkGreen;margin-right:1em;-webkit-print-color-adjust:exact;\"> </span> Success (<a href=\"/wiki/Starlink\" title=\"Starlink\">Starlink</a>)</li>\n",
      "<li><span style=\"padding:0 1em;background-color:LightBlue;border:1px solid LightBlue;margin-right:1em;-webkit-print-color-adjust:exact;\"> </span> Planned (commercial and government)</li>\n",
      "<li><span style=\"padding:0 1em;background-color:DarkCyan;border:1px solid DarkCyan;margin-right:1em;-webkit-print-color-adjust:exact;\"> </span> Planned (<a href=\"/wiki/Starlink\" title=\"Starlink\">Starlink</a>)</li></ul>\n",
      "</div>\n",
      "</div>\n",
      "<style data-mw-deduplicate=\"TemplateStyles:r1011085734\">.mw-parser-output .reflist{font-size:90%;margin-bottom:0.5em;list-style-type:decimal}.mw-parser-output .reflist .references{font-size:100%;margin-bottom:0;list-style-type:inherit}.mw-parser-output .reflist-columns-2{column-width:30em}.mw-parser-output .reflist-columns-3{column-width:25em}.mw-parser-output .reflist-columns{margin-top:0.3em}.mw-parser-output .reflist-columns ol{margin-top:0}.mw-parser-output .reflist-columns li{page-break-inside:avoid;break-inside:avoid-column}.mw-parser-output .reflist-upper-alpha{list-style-type:upper-alpha}.mw-parser-output .reflist-upper-roman{list-style-type:upper-roman}.mw-parser-output .reflist-lower-alpha{list-style-type:lower-alpha}.mw-parser-output .reflist-lower-greek{list-style-type:lower-greek}.mw-parser-output .reflist-lower-roman{list-style-type:lower-roman}</style><div class=\"reflist reflist-lower-roman\">\n",
      "</div>\n",
      "</td>\n",
      "<td style=\"text-align: left; vertical-align: top;\">\n",
      "<h3><span class=\"mw-headline\" id=\"Booster_landings\"> Booster landings</span><span class=\"mw-editsection\"><span class=\"mw-editsection-bracket\">[</span><a href=\"/w/index.php?title=List_of_Falcon_9_and_Falcon_Heavy_launches&amp;action=edit&amp;section=T-4\" title=\"Edit section: Booster landings\"><span>edit</span></a><span class=\"mw-editsection-bracket\">]</span></span></h3>\n",
      "<div class=\"chart noresize\" style=\"margin-top:1em;max-width:480px;\">\n",
      "<div style=\"position:relative;min-height:320px;min-width:480px;max-width:480px;\">\n",
      "<div style=\"float:right;position:relative;min-height:240px;min-width:380px;max-width:380px;border-left:1px black solid;border-bottom:1px black solid;\">\n",
      "<div style=\"position:absolute;left:219px;top:238px;height:1px;min-width:19px;max-width:19px;background-color:Goldenrod;-webkit-print-color-adjust:exact;border:1px solid Goldenrod;border-bottom:none;overflow:hidden;\" title=\"Ground-pad failure: 1\"></div>\n",
      "<div style=\"position:absolute;left:138px;top:235px;height:4px;min-width:19px;max-width:19px;background-color:DarkRed;-webkit-print-color-adjust:exact;border:1px solid DarkRed;border-bottom:none;overflow:hidden;\" title=\"Drone-ship failure: 2\"></div>\n",
      "<div style=\"position:absolute;left:165px;top:233px;height:6px;min-width:19px;max-width:19px;background-color:DarkRed;-webkit-print-color-adjust:exact;border:1px solid DarkRed;border-bottom:none;overflow:hidden;\" title=\"Drone-ship failure: 3\"></div>\n",
      "<div style=\"position:absolute;left:219px;top:236px;height:1px;min-width:19px;max-width:19px;background-color:DarkRed;-webkit-print-color-adjust:exact;border:1px solid DarkRed;border-bottom:none;overflow:hidden;\" title=\"Drone-ship failure: 1\"></div>\n",
      "<div style=\"position:absolute;left:246px;top:238px;height:1px;min-width:19px;max-width:19px;background-color:DarkRed;-webkit-print-color-adjust:exact;border:1px solid DarkRed;border-bottom:none;overflow:hidden;\" title=\"Drone-ship failure: 1\"></div>\n",
      "<div style=\"position:absolute;left:273px;top:235px;height:4px;min-width:19px;max-width:19px;background-color:DarkRed;-webkit-print-color-adjust:exact;border:1px solid DarkRed;border-bottom:none;overflow:hidden;\" title=\"Drone-ship failure: 2\"></div>\n",
      "<div style=\"position:absolute;left:300px;top:238px;height:1px;min-width:19px;max-width:19px;background-color:DarkRed;-webkit-print-color-adjust:exact;border:1px solid DarkRed;border-bottom:none;overflow:hidden;\" title=\"Drone-ship failure: 1\"></div>\n",
      "<div style=\"position:absolute;left:84px;top:238px;height:1px;min-width:19px;max-width:19px;background-color:Black;-webkit-print-color-adjust:exact;border:1px solid Black;border-bottom:none;overflow:hidden;\" title=\"Ocean test failure: 1\"></div>\n",
      "<div style=\"position:absolute;left:111px;top:238px;height:1px;min-width:19px;max-width:19px;background-color:Black;-webkit-print-color-adjust:exact;border:1px solid Black;border-bottom:none;overflow:hidden;\" title=\"Ocean test failure: 1\"></div>\n",
      "<div style=\"position:absolute;left:3px;top:235px;height:4px;min-width:19px;max-width:19px;background-color:DimGrey;-webkit-print-color-adjust:exact;border:1px solid DimGrey;border-bottom:none;overflow:hidden;\" title=\"Parachute test failure: 2\"></div>\n",
      "<div style=\"position:absolute;left:138px;top:234px;height:1px;min-width:19px;max-width:19px;background-color:ForestGreen;-webkit-print-color-adjust:exact;border:1px solid ForestGreen;border-bottom:none;overflow:hidden;\" title=\"Ground-pad success: 1\"></div>\n",
      "<div style=\"position:absolute;left:165px;top:231px;height:1px;min-width:19px;max-width:19px;background-color:ForestGreen;-webkit-print-color-adjust:exact;border:1px solid ForestGreen;border-bottom:none;overflow:hidden;\" title=\"Ground-pad success: 1\"></div>\n",
      "<div style=\"position:absolute;left:192px;top:226px;height:13px;min-width:19px;max-width:19px;background-color:ForestGreen;-webkit-print-color-adjust:exact;border:1px solid ForestGreen;border-bottom:none;overflow:hidden;\" title=\"Ground-pad success: 6\"></div>\n",
      "<div style=\"position:absolute;left:219px;top:226px;height:9px;min-width:19px;max-width:19px;background-color:ForestGreen;-webkit-print-color-adjust:exact;border:1px solid ForestGreen;border-bottom:none;overflow:hidden;\" title=\"Ground-pad success: 4\"></div>\n",
      "<div style=\"position:absolute;left:246px;top:224px;height:13px;min-width:19px;max-width:19px;background-color:ForestGreen;-webkit-print-color-adjust:exact;border:1px solid ForestGreen;border-bottom:none;overflow:hidden;\" title=\"Ground-pad success: 6\"></div>\n",
      "<div style=\"position:absolute;left:273px;top:226px;height:9px;min-width:19px;max-width:19px;background-color:ForestGreen;-webkit-print-color-adjust:exact;border:1px solid ForestGreen;border-bottom:none;overflow:hidden;\" title=\"Ground-pad success: 4\"></div>\n",
      "<div style=\"position:absolute;left:300px;top:236px;height:1px;min-width:19px;max-width:19px;background-color:ForestGreen;-webkit-print-color-adjust:exact;border:1px solid ForestGreen;border-bottom:none;overflow:hidden;\" title=\"Ground-pad success: 1\"></div>\n",
      "<div style=\"position:absolute;left:327px;top:211px;height:28px;min-width:19px;max-width:19px;background-color:ForestGreen;-webkit-print-color-adjust:exact;border:1px solid ForestGreen;border-bottom:none;overflow:hidden;\" title=\"Ground-pad success: 12\"></div>\n",
      "<div style=\"position:absolute;left:354px;top:199px;height:40px;min-width:19px;max-width:19px;background-color:ForestGreen;-webkit-print-color-adjust:exact;border:1px solid ForestGreen;border-bottom:none;overflow:hidden;\" title=\"Ground-pad success: 17\"></div>\n",
      "<div style=\"position:absolute;left:165px;top:221px;height:9px;min-width:19px;max-width:19px;background-color:MediumBlue;-webkit-print-color-adjust:exact;border:1px solid MediumBlue;border-bottom:none;overflow:hidden;\" title=\"Drone-ship success: 4\"></div>\n",
      "<div style=\"position:absolute;left:192px;top:207px;height:18px;min-width:19px;max-width:19px;background-color:MediumBlue;-webkit-print-color-adjust:exact;border:1px solid MediumBlue;border-bottom:none;overflow:hidden;\" title=\"Drone-ship success: 8\"></div>\n",
      "<div style=\"position:absolute;left:219px;top:207px;height:18px;min-width:19px;max-width:19px;background-color:MediumBlue;-webkit-print-color-adjust:exact;border:1px solid MediumBlue;border-bottom:none;overflow:hidden;\" title=\"Drone-ship success: 8\"></div>\n",
      "<div style=\"position:absolute;left:246px;top:202px;height:21px;min-width:19px;max-width:19px;background-color:MediumBlue;-webkit-print-color-adjust:exact;border:1px solid MediumBlue;border-bottom:none;overflow:hidden;\" title=\"Drone-ship success: 9\"></div>\n",
      "<div style=\"position:absolute;left:273px;top:180px;height:45px;min-width:19px;max-width:19px;background-color:MediumBlue;-webkit-print-color-adjust:exact;border:1px solid MediumBlue;border-bottom:none;overflow:hidden;\" title=\"Drone-ship success: 19\"></div>\n",
      "<div style=\"position:absolute;left:300px;top:166px;height:69px;min-width:19px;max-width:19px;background-color:MediumBlue;-webkit-print-color-adjust:exact;border:1px solid MediumBlue;border-bottom:none;overflow:hidden;\" title=\"Drone-ship success: 29\"></div>\n",
      "<div style=\"position:absolute;left:327px;top:97px;height:114px;min-width:19px;max-width:19px;background-color:MediumBlue;-webkit-print-color-adjust:exact;border:1px solid MediumBlue;border-bottom:none;overflow:hidden;\" title=\"Drone-ship success: 48\"></div>\n",
      "<div style=\"position:absolute;left:354px;top:37px;height:162px;min-width:19px;max-width:19px;background-color:MediumBlue;-webkit-print-color-adjust:exact;border:1px solid MediumBlue;border-bottom:none;overflow:hidden;\" title=\"Drone-ship success: 68\"></div>\n",
      "<div style=\"position:absolute;left:111px;top:233px;height:4px;min-width:19px;max-width:19px;background-color:Darkgrey;-webkit-print-color-adjust:exact;border:1px solid Darkgrey;border-bottom:none;overflow:hidden;\" title=\"Ocean test success: 2\"></div>\n",
      "<div style=\"position:absolute;left:138px;top:231px;height:1px;min-width:19px;max-width:19px;background-color:Darkgrey;-webkit-print-color-adjust:exact;border:1px solid Darkgrey;border-bottom:none;overflow:hidden;\" title=\"Ocean test success: 1\"></div>\n",
      "<div style=\"position:absolute;left:192px;top:205px;height:1px;min-width:19px;max-width:19px;background-color:Darkgrey;-webkit-print-color-adjust:exact;border:1px solid Darkgrey;border-bottom:none;overflow:hidden;\" title=\"Ocean test success: 1\"></div>\n",
      "<div style=\"position:absolute;left:219px;top:205px;height:1px;min-width:19px;max-width:19px;background-color:Darkgrey;-webkit-print-color-adjust:exact;border:1px solid Darkgrey;border-bottom:none;overflow:hidden;\" title=\"Ocean test success: 1\"></div>\n",
      "<div style=\"position:absolute;left:57px;top:235px;height:4px;min-width:19px;max-width:19px;background-color:Gainsboro;-webkit-print-color-adjust:exact;border:1px solid Gainsboro;border-bottom:none;overflow:hidden;\" title=\"No attempt: 2\"></div>\n",
      "<div style=\"position:absolute;left:84px;top:233px;height:4px;min-width:19px;max-width:19px;background-color:Gainsboro;-webkit-print-color-adjust:exact;border:1px solid Gainsboro;border-bottom:none;overflow:hidden;\" title=\"No attempt: 2\"></div>\n",
      "<div style=\"position:absolute;left:111px;top:226px;height:6px;min-width:19px;max-width:19px;background-color:Gainsboro;-webkit-print-color-adjust:exact;border:1px solid Gainsboro;border-bottom:none;overflow:hidden;\" title=\"No attempt: 3\"></div>\n",
      "<div style=\"position:absolute;left:138px;top:224px;height:6px;min-width:19px;max-width:19px;background-color:Gainsboro;-webkit-print-color-adjust:exact;border:1px solid Gainsboro;border-bottom:none;overflow:hidden;\" title=\"No attempt: 3\"></div>\n",
      "<div style=\"position:absolute;left:192px;top:197px;height:6px;min-width:19px;max-width:19px;background-color:Gainsboro;-webkit-print-color-adjust:exact;border:1px solid Gainsboro;border-bottom:none;overflow:hidden;\" title=\"No attempt: 3\"></div>\n",
      "<div style=\"position:absolute;left:219px;top:185px;height:18px;min-width:19px;max-width:19px;background-color:Gainsboro;-webkit-print-color-adjust:exact;border:1px solid Gainsboro;border-bottom:none;overflow:hidden;\" title=\"No attempt: 8\"></div>\n",
      "<div style=\"position:absolute;left:246px;top:200px;height:1px;min-width:19px;max-width:19px;background-color:Gainsboro;-webkit-print-color-adjust:exact;border:1px solid Gainsboro;border-bottom:none;overflow:hidden;\" title=\"No attempt: 1\"></div>\n",
      "<div style=\"position:absolute;left:273px;top:178px;height:1px;min-width:19px;max-width:19px;background-color:Gainsboro;-webkit-print-color-adjust:exact;border:1px solid Gainsboro;border-bottom:none;overflow:hidden;\" title=\"No attempt: 1\"></div>\n",
      "<div style=\"position:absolute;left:327px;top:89px;height:6px;min-width:19px;max-width:19px;background-color:Gainsboro;-webkit-print-color-adjust:exact;border:1px solid Gainsboro;border-bottom:none;overflow:hidden;\" title=\"No attempt: 3\"></div>\n",
      "<div style=\"position:absolute;left:354px;top:22px;height:13px;min-width:19px;max-width:19px;background-color:Gainsboro;-webkit-print-color-adjust:exact;border:1px solid Gainsboro;border-bottom:none;overflow:hidden;\" title=\"No attempt: 6\"></div>\n",
      "</div>\n",
      "<div style=\"position:absolute;height:240px;min-width:100px;max-width:100px;\">\n",
      "<div style=\"position:absolute;height=20px;text-align:right;vertical-align:middle;width:90px;top:206px;padding:0 2px\">10</div>\n",
      "<div style=\"position:absolute;height=1px;min-width:5px;top:216px;left:96px;border:1px solid black;\"></div>\n",
      "<div style=\"position:absolute;height=20px;text-align:right;vertical-align:middle;width:90px;top:182px;padding:0 2px\">20</div>\n",
      "<div style=\"position:absolute;height=1px;min-width:5px;top:192px;left:96px;border:1px solid black;\"></div>\n",
      "<div style=\"position:absolute;height=20px;text-align:right;vertical-align:middle;width:90px;top:158px;padding:0 2px\">30</div>\n",
      "<div style=\"position:absolute;height=1px;min-width:5px;top:168px;left:96px;border:1px solid black;\"></div>\n",
      "<div style=\"position:absolute;height=20px;text-align:right;vertical-align:middle;width:90px;top:134px;padding:0 2px\">40</div>\n",
      "<div style=\"position:absolute;height=1px;min-width:5px;top:144px;left:96px;border:1px solid black;\"></div>\n",
      "<div style=\"position:absolute;height=20px;text-align:right;vertical-align:middle;width:90px;top:110px;padding:0 2px\">50</div>\n",
      "<div style=\"position:absolute;height=1px;min-width:5px;top:120px;left:96px;border:1px solid black;\"></div>\n",
      "<div style=\"position:absolute;height=20px;text-align:right;vertical-align:middle;width:90px;top:86px;padding:0 2px\">60</div>\n",
      "<div style=\"position:absolute;height=1px;min-width:5px;top:96px;left:96px;border:1px solid black;\"></div>\n",
      "<div style=\"position:absolute;height=20px;text-align:right;vertical-align:middle;width:90px;top:62px;padding:0 2px\">70</div>\n",
      "<div style=\"position:absolute;height=1px;min-width:5px;top:72px;left:96px;border:1px solid black;\"></div>\n",
      "<div style=\"position:absolute;height=20px;text-align:right;vertical-align:middle;width:90px;top:38px;padding:0 2px\">80</div>\n",
      "<div style=\"position:absolute;height=1px;min-width:5px;top:48px;left:96px;border:1px solid black;\"></div>\n",
      "<div style=\"position:absolute;height=20px;text-align:right;vertical-align:middle;width:90px;top:14px;padding:0 2px\">90</div>\n",
      "<div style=\"position:absolute;height=1px;min-width:5px;top:24px;left:96px;border:1px solid black;\"></div>\n",
      "<div style=\"position:absolute;height=20px;text-align:right;vertical-align:middle;width:90px;top:-10px;padding:0 2px\">100</div>\n",
      "<div style=\"position:absolute;height=1px;min-width:5px;top:0px;left:96px;border:1px solid black;\"></div>\n",
      "</div>\n",
      "<div style=\"position:absolute;top:240px;left:100px;width:380px;\">\n",
      "<div style=\"position:absolute;left:5px;top:10px;min-width:17px;max-width:17px;text-align:center;vertical-align:top;\">'10</div>\n",
      "<div style=\"position:absolute;left:13.5px;height:10px;width:1px;border-left:1px solid black;\"></div>\n",
      "<div style=\"position:absolute;left:32px;top:10px;min-width:17px;max-width:17px;text-align:center;vertical-align:top;\">'11</div>\n",
      "<div style=\"position:absolute;left:40.5px;height:10px;width:1px;border-left:1px solid black;\"></div>\n",
      "<div style=\"position:absolute;left:59px;top:10px;min-width:17px;max-width:17px;text-align:center;vertical-align:top;\">'12</div>\n",
      "<div style=\"position:absolute;left:67.5px;height:10px;width:1px;border-left:1px solid black;\"></div>\n",
      "<div style=\"position:absolute;left:86px;top:10px;min-width:17px;max-width:17px;text-align:center;vertical-align:top;\">'13</div>\n",
      "<div style=\"position:absolute;left:94.5px;height:10px;width:1px;border-left:1px solid black;\"></div>\n",
      "<div style=\"position:absolute;left:113px;top:10px;min-width:17px;max-width:17px;text-align:center;vertical-align:top;\">'14</div>\n",
      "<div style=\"position:absolute;left:121.5px;height:10px;width:1px;border-left:1px solid black;\"></div>\n",
      "<div style=\"position:absolute;left:140px;top:10px;min-width:17px;max-width:17px;text-align:center;vertical-align:top;\">'15</div>\n",
      "<div style=\"position:absolute;left:148.5px;height:10px;width:1px;border-left:1px solid black;\"></div>\n",
      "<div style=\"position:absolute;left:167px;top:10px;min-width:17px;max-width:17px;text-align:center;vertical-align:top;\">'16</div>\n",
      "<div style=\"position:absolute;left:175.5px;height:10px;width:1px;border-left:1px solid black;\"></div>\n",
      "<div style=\"position:absolute;left:194px;top:10px;min-width:17px;max-width:17px;text-align:center;vertical-align:top;\">'17</div>\n",
      "<div style=\"position:absolute;left:202.5px;height:10px;width:1px;border-left:1px solid black;\"></div>\n",
      "<div style=\"position:absolute;left:221px;top:10px;min-width:17px;max-width:17px;text-align:center;vertical-align:top;\">'18</div>\n",
      "<div style=\"position:absolute;left:229.5px;height:10px;width:1px;border-left:1px solid black;\"></div>\n",
      "<div style=\"position:absolute;left:248px;top:10px;min-width:17px;max-width:17px;text-align:center;vertical-align:top;\">'19</div>\n",
      "<div style=\"position:absolute;left:256.5px;height:10px;width:1px;border-left:1px solid black;\"></div>\n",
      "<div style=\"position:absolute;left:275px;top:10px;min-width:17px;max-width:17px;text-align:center;vertical-align:top;\">'20</div>\n",
      "<div style=\"position:absolute;left:283.5px;height:10px;width:1px;border-left:1px solid black;\"></div>\n",
      "<div style=\"position:absolute;left:302px;top:10px;min-width:17px;max-width:17px;text-align:center;vertical-align:top;\">'21</div>\n",
      "<div style=\"position:absolute;left:310.5px;height:10px;width:1px;border-left:1px solid black;\"></div>\n",
      "<div style=\"position:absolute;left:329px;top:10px;min-width:17px;max-width:17px;text-align:center;vertical-align:top;\">'22</div>\n",
      "<div style=\"position:absolute;left:337.5px;height:10px;width:1px;border-left:1px solid black;\"></div>\n",
      "<div style=\"position:absolute;left:356px;top:10px;min-width:17px;max-width:17px;text-align:center;vertical-align:top;\">'23</div>\n",
      "<div style=\"position:absolute;left:364.5px;height:10px;width:1px;border-left:1px solid black;\"></div>\n",
      "</div>\n",
      "</div>\n",
      "<div>\n",
      "<ul style=\"width:100%;list-style:none;column-width:12em;\"><li><span style=\"padding:0 1em;background-color:Goldenrod;border:1px solid Goldenrod;margin-right:1em;-webkit-print-color-adjust:exact;\"> </span> Ground-pad failure</li>\n",
      "<li><span style=\"padding:0 1em;background-color:DarkRed;border:1px solid DarkRed;margin-right:1em;-webkit-print-color-adjust:exact;\"> </span> Drone-ship failure</li>\n",
      "<li><span style=\"padding:0 1em;background-color:Black;border:1px solid Black;margin-right:1em;-webkit-print-color-adjust:exact;\"> </span> Ocean test failure<sup class=\"reference\" id=\"cite_ref-62\"><a href=\"#cite_note-62\">[i]</a></sup></li>\n",
      "<li><span style=\"padding:0 1em;background-color:DimGrey;border:1px solid DimGrey;margin-right:1em;-webkit-print-color-adjust:exact;\"> </span> Parachute test failure<sup class=\"reference\" id=\"cite_ref-63\"><a href=\"#cite_note-63\">[ii]</a></sup></li>\n",
      "<li><span style=\"padding:0 1em;background-color:ForestGreen;border:1px solid ForestGreen;margin-right:1em;-webkit-print-color-adjust:exact;\"> </span> Ground-pad success</li>\n",
      "<li><span style=\"padding:0 1em;background-color:MediumBlue;border:1px solid MediumBlue;margin-right:1em;-webkit-print-color-adjust:exact;\"> </span> Drone-ship success</li>\n",
      "<li><span style=\"padding:0 1em;background-color:Darkgrey;border:1px solid Darkgrey;margin-right:1em;-webkit-print-color-adjust:exact;\"> </span> Ocean test success<sup class=\"reference\" id=\"cite_ref-64\"><a href=\"#cite_note-64\">[iii]</a></sup></li>\n",
      "<li><span style=\"padding:0 1em;background-color:Gainsboro;border:1px solid Gainsboro;margin-right:1em;-webkit-print-color-adjust:exact;\"> </span> No attempt</li></ul>\n",
      "</div>\n",
      "</div><link href=\"mw-data:TemplateStyles:r1011085734\" rel=\"mw-deduplicated-inline-style\"/><div class=\"reflist reflist-lower-roman\">\n",
      "<div class=\"mw-references-wrap\"><ol class=\"references\">\n",
      "<li id=\"cite_note-62\"><span class=\"mw-cite-backlink\"><b><a href=\"#cite_ref-62\">^</a></b></span> <span class=\"reference-text\">Controlled descent; ocean touchdown control failed; no recovery</span>\n",
      "</li>\n",
      "<li id=\"cite_note-63\"><span class=\"mw-cite-backlink\"><b><a href=\"#cite_ref-63\">^</a></b></span> <span class=\"reference-text\">Passive reentry failed before parachute deployment</span>\n",
      "</li>\n",
      "<li id=\"cite_note-64\"><span class=\"mw-cite-backlink\"><b><a href=\"#cite_ref-64\">^</a></b></span> <span class=\"reference-text\">Controlled descent; soft vertical ocean touchdown; no recovery</span>\n",
      "</li>\n",
      "</ol></div></div>\n",
      "<p><br/>\n",
      "</p><p>\n",
      "</p>\n",
      "</td></tr></tbody></table>\n"
     ]
    }
   ],
   "source": [
    "# Let's print the third table and check its content\n",
    "first_launch_table = html_tables[2]\n",
    "print(first_launch_table)"
   ]
  },
  {
   "cell_type": "markdown",
   "id": "c1d4191c-6f61-451c-acbc-8951747f2320",
   "metadata": {},
   "source": [
    "You should able to see the columns names embedded in the table header elements `<th>` as follows:\n"
   ]
  },
  {
   "cell_type": "markdown",
   "id": "852b4c4c-8af5-4968-a71d-3b2d5e4e137b",
   "metadata": {},
   "source": [
    "```\n",
    "<tr>\n",
    "<th scope=\"col\">Flight No.\n",
    "</th>\n",
    "<th scope=\"col\">Date and<br/>time (<a href=\"/wiki/Coordinated_Universal_Time\" title=\"Coordinated Universal Time\">UTC</a>)\n",
    "</th>\n",
    "<th scope=\"col\"><a href=\"/wiki/List_of_Falcon_9_first-stage_boosters\" title=\"List of Falcon 9 first-stage boosters\">Version,<br/>Booster</a> <sup class=\"reference\" id=\"cite_ref-booster_11-0\"><a href=\"#cite_note-booster-11\">[b]</a></sup>\n",
    "</th>\n",
    "<th scope=\"col\">Launch site\n",
    "</th>\n",
    "<th scope=\"col\">Payload<sup class=\"reference\" id=\"cite_ref-Dragon_12-0\"><a href=\"#cite_note-Dragon-12\">[c]</a></sup>\n",
    "</th>\n",
    "<th scope=\"col\">Payload mass\n",
    "</th>\n",
    "<th scope=\"col\">Orbit\n",
    "</th>\n",
    "<th scope=\"col\">Customer\n",
    "</th>\n",
    "<th scope=\"col\">Launch<br/>outcome\n",
    "</th>\n",
    "<th scope=\"col\"><a href=\"/wiki/Falcon_9_first-stage_landing_tests\" title=\"Falcon 9 first-stage landing tests\">Booster<br/>landing</a>\n",
    "</th></tr>\n",
    "```\n"
   ]
  },
  {
   "cell_type": "markdown",
   "id": "587b33ae-9057-4a1d-8362-9b45b064d8d6",
   "metadata": {},
   "source": [
    "Next, we just need to iterate through the `<th>` elements and apply the provided `extract_column_from_header()` to extract column name one by one\n"
   ]
  },
  {
   "cell_type": "code",
   "execution_count": 25,
   "id": "3fa46d57-df59-47d8-9572-0ee238d81fcf",
   "metadata": {},
   "outputs": [
    {
     "name": "stdout",
     "output_type": "stream",
     "text": [
      "Extracted column names: ['Function', 'Manufacturer', 'Country of origin', 'Cost per launch', 'Size', 'Height', 'Diameter', 'Mass', 'Stages', 'Capacity', 'Payload toLow Earth orbit(LEO)', 'Orbital inclination', 'Mass', 'Payload toGeosynchronous transfer orbit(GTO)', 'Orbital inclination', 'Mass', 'Payload toMars transfer orbit', 'Mass', 'Associated rockets', 'Derivative work', 'Launch history', 'Status', 'Launch sites', 'Total launches', 'Success(es)', 'Failure(s)', 'Partial failure(s)', 'Notable outcome(s)', 'Landings', 'First flight', 'Last flight', 'First stage', 'Powered by', 'Maximum thrust', 'Specific impulse', 'Burn time', 'Propellant', 'Second stage', 'Powered by', 'Maximum thrust', 'Specific impulse', 'Burn time', 'Propellant']\n"
     ]
    }
   ],
   "source": [
    "column_names = []\n",
    "\n",
    "# Apply find_all() function with `th` element on first_launch_table\n",
    "# Iterate each th element and apply the provided extract_column_from_header() to get a column name\n",
    "# Append the Non-empty column name (`if name is not None and len(name) > 0`) into a list called column_names\n",
    "import requests\n",
    "from bs4 import BeautifulSoup\n",
    "\n",
    "# Define or import the extract_column_from_header function\n",
    "def extract_column_from_header(th_element):\n",
    "    # Implement the logic for extracting the column name\n",
    "    # This function should take a BeautifulSoup Tag as an argument and return the column name as a string\n",
    "    return th_element.get_text(strip=True)\n",
    "\n",
    "# Assuming 'static_url' is the URL of the Falcon 9 Launch Wikipedia page\n",
    "static_url = 'https://en.wikipedia.org/wiki/Falcon_9'\n",
    "\n",
    "# Make a GET request to the URL\n",
    "response = requests.get(static_url)\n",
    "\n",
    "# Check if the request was successful (status code 200)\n",
    "if response.status_code == 200:\n",
    "    # Create a BeautifulSoup object from the HTML content\n",
    "    soup = BeautifulSoup(response.text, 'html.parser')\n",
    "\n",
    "    # Use find_all to get all tables on the page\n",
    "    html_tables = soup.find_all('table')\n",
    "\n",
    "    # Assume you want to extract column names from the first table (change index if needed)\n",
    "    first_launch_table = html_tables[0]\n",
    "\n",
    "    # Initialize an empty list to store column names\n",
    "    column_names = []\n",
    "\n",
    "    # Apply find_all() function with `th` element on first_launch_table\n",
    "    th_elements = first_launch_table.find_all('th')\n",
    "\n",
    "    # Iterate through th elements and apply extract_column_from_header() function\n",
    "    for th_element in th_elements:\n",
    "        # Use the Tag directly without converting it to a string\n",
    "        column_name = extract_column_from_header(th_element)\n",
    "        \n",
    "        # Append the non-empty column name to the list\n",
    "        if column_name is not None and len(column_name) > 0:\n",
    "            column_names.append(column_name)\n",
    "\n",
    "    # Now 'column_names' contains the extracted column names\n",
    "    print(\"Extracted column names:\", column_names)\n",
    "else:\n",
    "    # Handle the error\n",
    "    print(f\"Error: {response.status_code}\")\n"
   ]
  },
  {
   "cell_type": "markdown",
   "id": "79a7ca6a-0650-4171-b03f-9d04802df440",
   "metadata": {},
   "source": [
    "Check the extracted column names\n"
   ]
  },
  {
   "cell_type": "code",
   "execution_count": 26,
   "id": "0c6cd4cd-b399-4d3b-8c8a-38ec6c4028e2",
   "metadata": {},
   "outputs": [
    {
     "name": "stdout",
     "output_type": "stream",
     "text": [
      "['Function', 'Manufacturer', 'Country of origin', 'Cost per launch', 'Size', 'Height', 'Diameter', 'Mass', 'Stages', 'Capacity', 'Payload toLow Earth orbit(LEO)', 'Orbital inclination', 'Mass', 'Payload toGeosynchronous transfer orbit(GTO)', 'Orbital inclination', 'Mass', 'Payload toMars transfer orbit', 'Mass', 'Associated rockets', 'Derivative work', 'Launch history', 'Status', 'Launch sites', 'Total launches', 'Success(es)', 'Failure(s)', 'Partial failure(s)', 'Notable outcome(s)', 'Landings', 'First flight', 'Last flight', 'First stage', 'Powered by', 'Maximum thrust', 'Specific impulse', 'Burn time', 'Propellant', 'Second stage', 'Powered by', 'Maximum thrust', 'Specific impulse', 'Burn time', 'Propellant']\n"
     ]
    }
   ],
   "source": [
    "print(column_names)"
   ]
  },
  {
   "cell_type": "markdown",
   "id": "63600678-6581-4cbc-b6cb-1d733fbf247f",
   "metadata": {},
   "source": [
    "## TASK 3: Create a data frame by parsing the launch HTML tables\n"
   ]
  },
  {
   "cell_type": "markdown",
   "id": "dfb1dfb0-ee73-4587-b38d-ddebe4f41940",
   "metadata": {},
   "source": [
    "We will create an empty dictionary with keys from the extracted column names in the previous task. Later, this dictionary will be converted into a Pandas dataframe\n"
   ]
  },
  {
   "cell_type": "code",
   "execution_count": 30,
   "id": "0aa18a5d-916e-4785-a732-fba1c9086c4e",
   "metadata": {},
   "outputs": [
    {
     "ename": "AttributeError",
     "evalue": "'NoneType' object has no attribute 'append'",
     "output_type": "error",
     "traceback": [
      "\u001b[1;31m---------------------------------------------------------------------------\u001b[0m",
      "\u001b[1;31mAttributeError\u001b[0m                            Traceback (most recent call last)",
      "Cell \u001b[1;32mIn[30], line 14\u001b[0m\n\u001b[0;32m     11\u001b[0m \u001b[38;5;66;03m# Handle the case where extract_column_from_header returns None\u001b[39;00m\n\u001b[0;32m     12\u001b[0m \u001b[38;5;28;01mif\u001b[39;00m value \u001b[38;5;129;01mis\u001b[39;00m \u001b[38;5;129;01mnot\u001b[39;00m \u001b[38;5;28;01mNone\u001b[39;00m:\n\u001b[0;32m     13\u001b[0m     \u001b[38;5;66;03m# If the key is not in the dictionary, create an empty list for it\u001b[39;00m\n\u001b[1;32m---> 14\u001b[0m     \u001b[43mlaunch_dict\u001b[49m\u001b[38;5;241;43m.\u001b[39;49m\u001b[43msetdefault\u001b[49m\u001b[43m(\u001b[49m\u001b[43mkey\u001b[49m\u001b[43m,\u001b[49m\u001b[43m \u001b[49m\u001b[43m[\u001b[49m\u001b[43m]\u001b[49m\u001b[43m)\u001b[49m\u001b[38;5;241;43m.\u001b[39;49m\u001b[43mappend\u001b[49m(value)\n\u001b[0;32m     15\u001b[0m     \u001b[38;5;28mprint\u001b[39m(\u001b[38;5;124mf\u001b[39m\u001b[38;5;124m\"\u001b[39m\u001b[38;5;124mAppended value \u001b[39m\u001b[38;5;124m'\u001b[39m\u001b[38;5;132;01m{\u001b[39;00mvalue\u001b[38;5;132;01m}\u001b[39;00m\u001b[38;5;124m'\u001b[39m\u001b[38;5;124m to key \u001b[39m\u001b[38;5;124m'\u001b[39m\u001b[38;5;132;01m{\u001b[39;00mkey\u001b[38;5;132;01m}\u001b[39;00m\u001b[38;5;124m'\u001b[39m\u001b[38;5;124m\"\u001b[39m)\n\u001b[0;32m     16\u001b[0m \u001b[38;5;28;01melse\u001b[39;00m:\n",
      "\u001b[1;31mAttributeError\u001b[0m: 'NoneType' object has no attribute 'append'"
     ]
    }
   ],
   "source": [
    "# ...\n",
    "\n",
    "# Iterate through the rows of the HTML table and fill in the values\n",
    "for row in first_launch_table.find_all('tr')[1:]:  # Start from index 1 to skip the header row\n",
    "    columns = row.find_all(['th', 'td'])\n",
    "\n",
    "    # Assuming the order of columns in each row corresponds to the keys in launch_dict\n",
    "    for key, column in zip(launch_dict.keys(), columns):\n",
    "        value = extract_column_from_header(column)\n",
    "\n",
    "        # Handle the case where extract_column_from_header returns None\n",
    "        if value is not None:\n",
    "            # If the key is not in the dictionary, create an empty list for it\n",
    "            launch_dict.setdefault(key, []).append(value)\n",
    "            print(f\"Appended value '{value}' to key '{key}'\")\n",
    "        else:\n",
    "            print(f\"Skipping None value for key '{key}'\")\n",
    "\n",
    "# ...\n"
   ]
  },
  {
   "cell_type": "markdown",
   "id": "132fda4c-66b9-4ffd-8716-a8e11ab666ac",
   "metadata": {},
   "source": [
    "Next, we just need to fill up the `launch_dict` with launch records extracted from table rows.\n"
   ]
  },
  {
   "cell_type": "markdown",
   "id": "f390337b-f7e9-4f19-a07e-ffd3c1585974",
   "metadata": {},
   "source": [
    "Usually, HTML tables in Wiki pages are likely to contain unexpected annotations and other types of noises, such as reference links `B0004.1[8]`, missing values `N/A [e]`, inconsistent formatting, etc.\n"
   ]
  },
  {
   "cell_type": "markdown",
   "id": "66e239d2-0d35-4f9c-b614-d92ac20d360d",
   "metadata": {},
   "source": [
    "To simplify the parsing process, we have provided an incomplete code snippet below to help you to fill up the `launch_dict`. Please complete the following code snippet with TODOs or you can choose to write your own logic to parse all launch tables:\n"
   ]
  },
  {
   "cell_type": "code",
   "execution_count": null,
   "id": "746e8516-ec12-4695-9a7d-062402ffd212",
   "metadata": {},
   "outputs": [],
   "source": [
    "extracted_row = 0\n",
    "#Extract each table \n",
    "for table_number,table in enumerate(soup.find_all('table',\"wikitable plainrowheaders collapsible\")):\n",
    "   # get table row \n",
    "    for rows in table.find_all(\"tr\"):\n",
    "        #check to see if first table heading is as number corresponding to launch a number \n",
    "        if rows.th:\n",
    "            if rows.th.string:\n",
    "                flight_number=rows.th.string.strip()\n",
    "                flag=flight_number.isdigit()\n",
    "        else:\n",
    "            flag=False\n",
    "        #get table element \n",
    "        row=rows.find_all('td')\n",
    "        #if it is number save cells in a dictonary \n",
    "        if flag:\n",
    "            extracted_row += 1\n",
    "            # Flight Number value\n",
    "            # TODO: Append the flight_number into launch_dict with key `Flight No.`\n",
    "            #print(flight_number)\n",
    "            datatimelist=date_time(row[0])\n",
    "            \n",
    "            # Date value\n",
    "            # TODO: Append the date into launch_dict with key `Date`\n",
    "            date = datatimelist[0].strip(',')\n",
    "            #print(date)\n",
    "            \n",
    "            # Time value\n",
    "            # TODO: Append the time into launch_dict with key `Time`\n",
    "            time = datatimelist[1]\n",
    "            #print(time)\n",
    "              \n",
    "            # Booster version\n",
    "            # TODO: Append the bv into launch_dict with key `Version Booster`\n",
    "            bv=booster_version(row[1])\n",
    "            if not(bv):\n",
    "                bv=row[1].a.string\n",
    "            print(bv)\n",
    "            \n",
    "            # Launch Site\n",
    "            # TODO: Append the bv into launch_dict with key `Launch Site`\n",
    "            launch_site = row[2].a.string\n",
    "            #print(launch_site)\n",
    "            \n",
    "            # Payload\n",
    "            # TODO: Append the payload into launch_dict with key `Payload`\n",
    "            payload = row[3].a.string\n",
    "            #print(payload)\n",
    "            \n",
    "            # Payload Mass\n",
    "            # TODO: Append the payload_mass into launch_dict with key `Payload mass`\n",
    "            payload_mass = get_mass(row[4])\n",
    "            #print(payload)\n",
    "            \n",
    "            # Orbit\n",
    "            # TODO: Append the orbit into launch_dict with key `Orbit`\n",
    "            orbit = row[5].a.string\n",
    "            #print(orbit)\n",
    "            \n",
    "            # Customer\n",
    "            # TODO: Append the customer into launch_dict with key `Customer`\n",
    "            customer = row[6].a.string\n",
    "            #print(customer)\n",
    "            \n",
    "            # Launch outcome\n",
    "            # TODO: Append the launch_outcome into launch_dict with key `Launch outcome`\n",
    "            launch_outcome = list(row[7].strings)[0]\n",
    "            #print(launch_outcome)\n",
    "            \n",
    "            # Booster landing\n",
    "            # TODO: Append the launch_outcome into launch_dict with key `Booster landing`\n",
    "            booster_landing = landing_status(row[8])\n",
    "            #print(booster_landing)\n",
    "            "
   ]
  },
  {
   "cell_type": "markdown",
   "id": "efbe10b6-f06d-46d2-8a3e-a8a429008d0d",
   "metadata": {},
   "source": [
    "After you have fill in the parsed launch record values into `launch_dict`, you can create a dataframe from it.\n"
   ]
  },
  {
   "cell_type": "code",
   "execution_count": null,
   "id": "959c9d53-80e0-4ebb-9146-8aad02ceb63a",
   "metadata": {},
   "outputs": [],
   "source": [
    "df= pd.DataFrame({ key:pd.Series(value) for key, value in launch_dict.items() })"
   ]
  },
  {
   "cell_type": "markdown",
   "id": "3d11ac33-1484-4e62-832a-73d4a9092c7f",
   "metadata": {},
   "source": [
    "We can now export it to a <b>CSV</b> for the next section, but to make the answers consistent and in case you have difficulties finishing this lab. \n",
    "\n",
    "Following labs will be using a provided dataset to make each lab independent. \n"
   ]
  },
  {
   "cell_type": "markdown",
   "id": "acc1243d-72af-4e63-ac6e-88d57274dc0c",
   "metadata": {},
   "source": [
    "<code>df.to_csv('spacex_web_scraped.csv', index=False)</code>\n"
   ]
  },
  {
   "cell_type": "markdown",
   "id": "1e003580-a101-4947-8d47-3fb4229a510b",
   "metadata": {},
   "source": [
    "## Authors\n"
   ]
  },
  {
   "cell_type": "markdown",
   "id": "864217cd-044a-4fdb-bed9-556a775d57b2",
   "metadata": {},
   "source": [
    "<a href=\"https://www.linkedin.com/in/yan-luo-96288783/\">Yan Luo</a>\n"
   ]
  },
  {
   "cell_type": "markdown",
   "id": "58e63045-8b3b-4264-b7d8-c73025118d5a",
   "metadata": {},
   "source": [
    "<a href=\"https://www.linkedin.com/in/nayefaboutayoun/\">Nayef Abou Tayoun</a>\n"
   ]
  },
  {
   "cell_type": "markdown",
   "id": "d714bd34-d64c-412c-b095-28d73cb8717d",
   "metadata": {},
   "source": [
    "## Change Log\n"
   ]
  },
  {
   "cell_type": "markdown",
   "id": "b90dce1e-0239-4167-af29-d9403e8e1f7e",
   "metadata": {},
   "source": [
    "| Date (YYYY-MM-DD) | Version | Changed By | Change Description      |\n",
    "| ----------------- | ------- | ---------- | ----------------------- |\n",
    "| 2021-06-09        | 1.0     | Yan Luo    | Tasks updates           |\n",
    "| 2020-11-10        | 1.0     | Nayef      | Created the initial version |\n"
   ]
  },
  {
   "cell_type": "markdown",
   "id": "4c9c9339-b67d-4ecc-99df-98233721a8e8",
   "metadata": {},
   "source": [
    "Copyright © 2021 IBM Corporation. All rights reserved.\n"
   ]
  }
 ],
 "metadata": {
  "kernelspec": {
   "display_name": "Python 3 (ipykernel)",
   "language": "python",
   "name": "python3"
  },
  "language_info": {
   "codemirror_mode": {
    "name": "ipython",
    "version": 3
   },
   "file_extension": ".py",
   "mimetype": "text/x-python",
   "name": "python",
   "nbconvert_exporter": "python",
   "pygments_lexer": "ipython3",
   "version": "3.10.13"
  }
 },
 "nbformat": 4,
 "nbformat_minor": 4
}
